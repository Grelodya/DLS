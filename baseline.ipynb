{
  "nbformat": 4,
  "nbformat_minor": 0,
  "metadata": {
    "kernelspec": {
      "display_name": "Python 3",
      "language": "python",
      "name": "python3"
    },
    "language_info": {
      "codemirror_mode": {
        "name": "ipython",
        "version": 3
      },
      "file_extension": ".py",
      "mimetype": "text/x-python",
      "name": "python",
      "nbconvert_exporter": "python",
      "pygments_lexer": "ipython3",
      "version": "3.7.4"
    },
    "colab": {
      "name": "baseline.ipynb",
      "provenance": [],
      "collapsed_sections": [],
      "toc_visible": true,
      "include_colab_link": true
    }
  },
  "cells": [
    {
      "cell_type": "markdown",
      "metadata": {
        "id": "view-in-github",
        "colab_type": "text"
      },
      "source": [
        "<a href=\"https://colab.research.google.com/github/Grelodya/DLS/blob/main/baseline.ipynb\" target=\"_parent\"><img src=\"https://colab.research.google.com/assets/colab-badge.svg\" alt=\"Open In Colab\"/></a>"
      ]
    },
    {
      "cell_type": "markdown",
      "metadata": {
        "id": "TK7oX5qdEEYr"
      },
      "source": [
        "<p style=\"align: center;\"><img align=center src=\"https://s8.hostingkartinok.com/uploads/images/2018/08/308b49fcfbc619d629fe4604bceb67ac.jpg\" width=500 height=450/></p>\n",
        "\n",
        "<h3 style=\"text-align: center;\"><b>Школа глубокого обучения ФПМИ МФТИ</b></h3>\n",
        "\n",
        "<h3 style=\"text-align: center;\"><b>Домашнее задание. Продвинутый поток. Весна 2021</b></h3>\n",
        "\n",
        "Это домашнее задание будет посвящено полноценному решению задачи машинного обучения."
      ]
    },
    {
      "cell_type": "markdown",
      "metadata": {
        "id": "zlB-owfaEEYs"
      },
      "source": [
        "Есть две части этого домашнего задания: \n",
        "* Сделать полноценный отчет о вашей работе: как вы обработали данные, какие модели попробовали и какие результаты получились (максимум 10 баллов). За каждую выполненную часть будет начислено определенное количество баллов.\n",
        "* Лучшее решение отправить в соревнование на [kaggle](https://www.kaggle.com/c/advanced-dls-spring-2021/) (максимум 5 баллов). За прохождение определенного порогов будут начисляться баллы.\n",
        "\n",
        "\n",
        "**Обе части будут проверяться в формате peer-review. Т.е. вашу посылку на степик будут проверять несколько других студентов и аггрегация их оценок будет выставлена. В то же время вам тоже нужно будет проверить несколько других учеников.**\n",
        "\n",
        "**Пожалуйста, делайте свою работу чистой и понятной, чтобы облегчить проверку. Если у вас будут проблемы с решением или хочется совета, то пишите в наш чат в телеграме или в лс @runfme. Если вы захотите проаппелировать оценку, то пипшите в лс @runfme.**\n",
        "\n",
        "**Во всех пунктах указания это минимальный набор вещей, которые стоит сделать. Если вы можете сделать какой-то шаг лучше или добавить что-то свое - дерзайте!**"
      ]
    },
    {
      "cell_type": "markdown",
      "metadata": {
        "id": "Tu_JvqcBEN8Y"
      },
      "source": [
        "# Как проверять?\n",
        "\n",
        "Ставьте полный балл, если выполнены все рекомендации или сделано что-то более интересное и сложное. За каждый отсустствующий пункт из рекомендация снижайте 1 балл."
      ]
    },
    {
      "cell_type": "markdown",
      "metadata": {
        "id": "ninJ63mJEEYt"
      },
      "source": [
        "# Метрика\n",
        "\n",
        "Перед решением любой задачи важно понимать, как будет оцениваться ваше решение. В данном случае мы используем стандартную для задачи классификации метрику ROC-AUC. Ее можно вычислить используя только предсказанные вероятности и истинные классы без конкретного порога классификации + она раотает даже если классы в данных сильно несбалансированны (примеров одного класса в десятки раз больше примеров длугого). Именно поэтому она очень удобна для соревнований.\n",
        "\n",
        "Посчитать ее легко:\n"
      ]
    },
    {
      "cell_type": "code",
      "metadata": {
        "id": "SQIrka7yEEYu",
        "colab": {
          "base_uri": "https://localhost:8080/"
        },
        "outputId": "4e052694-06a9-442c-d9ef-938533a6ec57"
      },
      "source": [
        "from sklearn.metrics import roc_auc_score\n",
        "\n",
        "y_true = [\n",
        "    0,\n",
        "    1,\n",
        "    1,\n",
        "    0,\n",
        "    1\n",
        "]\n",
        "\n",
        "y_predictions = [\n",
        "    0.1,\n",
        "    0.9,\n",
        "    0.4,\n",
        "    0.6,\n",
        "    0.61\n",
        "]\n",
        "\n",
        "roc_auc_score(y_true, y_predictions)"
      ],
      "execution_count": 35,
      "outputs": [
        {
          "output_type": "execute_result",
          "data": {
            "text/plain": [
              "0.8333333333333333"
            ]
          },
          "metadata": {
            "tags": []
          },
          "execution_count": 35
        }
      ]
    },
    {
      "cell_type": "markdown",
      "metadata": {
        "id": "IrDNNkNTEEYz"
      },
      "source": [
        "# Первая часть. Исследование"
      ]
    },
    {
      "cell_type": "code",
      "metadata": {
        "id": "lzLqEeZKEEYz"
      },
      "source": [
        "import pandas as pd\n",
        "import numpy as np\n",
        "from matplotlib import pyplot as plt"
      ],
      "execution_count": 36,
      "outputs": []
    },
    {
      "cell_type": "markdown",
      "metadata": {
        "id": "LOlxdURSEEY3"
      },
      "source": [
        "## Загрузка данных (2 балла)\n",
        "\n",
        "1) Посмотрите на случайные строчки. \n",
        "\n",
        "2) Посмотрите, есть ли в датасете незаполненные значения (nan'ы) с помощью data.isna() или data.info() и, если нужно, замените их на что-то. Будет хорошо, если вы построите табличку с количеством nan в каждой колонке."
      ]
    },
    {
      "cell_type": "code",
      "metadata": {
        "id": "pw-Brue9EEY3"
      },
      "source": [
        "data = pd.read_csv('./train.csv')"
      ],
      "execution_count": 37,
      "outputs": []
    },
    {
      "cell_type": "code",
      "metadata": {
        "id": "KgnkkF5bEEY9"
      },
      "source": [
        "# Для вашего удобства списки с именами разных колонок\n",
        "\n",
        "# Числовые признаки\n",
        "num_cols = [\n",
        "    'ClientPeriod',\n",
        "    'MonthlySpending',\n",
        "    'TotalSpent'\n",
        "]\n",
        "\n",
        "# Категориальные признаки\n",
        "cat_cols = [\n",
        "    'Sex',\n",
        "    'IsSeniorCitizen',\n",
        "    'HasPartner',\n",
        "    'HasChild',\n",
        "    'HasPhoneService',\n",
        "    'HasMultiplePhoneNumbers',\n",
        "    'HasInternetService',\n",
        "    'HasOnlineSecurityService',\n",
        "    'HasOnlineBackup',\n",
        "    'HasDeviceProtection',\n",
        "    'HasTechSupportAccess',\n",
        "    'HasOnlineTV',\n",
        "    'HasMovieSubscription',\n",
        "    'HasContractPhone',\n",
        "    'IsBillingPaperless',\n",
        "    'PaymentMethod'\n",
        "]\n",
        "\n",
        "feature_cols = num_cols + cat_cols\n",
        "target_col = 'Churn'"
      ],
      "execution_count": 38,
      "outputs": []
    },
    {
      "cell_type": "markdown",
      "metadata": {
        "id": "xNDffyx-YNrH"
      },
      "source": [
        "Рассмотрим 10 случайных строк датасета. Для этого воспользуемся методом DataFrame.sample() с параметром n=10"
      ]
    },
    {
      "cell_type": "code",
      "metadata": {
        "colab": {
          "base_uri": "https://localhost:8080/",
          "height": 549
        },
        "id": "4xpPg0EaUDsp",
        "outputId": "f295e124-ac24-4b0f-e63d-8a4ab759a5c4"
      },
      "source": [
        "data.sample(n = 10)"
      ],
      "execution_count": 39,
      "outputs": [
        {
          "output_type": "execute_result",
          "data": {
            "text/html": [
              "<div>\n",
              "<style scoped>\n",
              "    .dataframe tbody tr th:only-of-type {\n",
              "        vertical-align: middle;\n",
              "    }\n",
              "\n",
              "    .dataframe tbody tr th {\n",
              "        vertical-align: top;\n",
              "    }\n",
              "\n",
              "    .dataframe thead th {\n",
              "        text-align: right;\n",
              "    }\n",
              "</style>\n",
              "<table border=\"1\" class=\"dataframe\">\n",
              "  <thead>\n",
              "    <tr style=\"text-align: right;\">\n",
              "      <th></th>\n",
              "      <th>ClientPeriod</th>\n",
              "      <th>MonthlySpending</th>\n",
              "      <th>TotalSpent</th>\n",
              "      <th>Sex</th>\n",
              "      <th>IsSeniorCitizen</th>\n",
              "      <th>HasPartner</th>\n",
              "      <th>HasChild</th>\n",
              "      <th>HasPhoneService</th>\n",
              "      <th>HasMultiplePhoneNumbers</th>\n",
              "      <th>HasInternetService</th>\n",
              "      <th>HasOnlineSecurityService</th>\n",
              "      <th>HasOnlineBackup</th>\n",
              "      <th>HasDeviceProtection</th>\n",
              "      <th>HasTechSupportAccess</th>\n",
              "      <th>HasOnlineTV</th>\n",
              "      <th>HasMovieSubscription</th>\n",
              "      <th>HasContractPhone</th>\n",
              "      <th>IsBillingPaperless</th>\n",
              "      <th>PaymentMethod</th>\n",
              "      <th>Churn</th>\n",
              "    </tr>\n",
              "  </thead>\n",
              "  <tbody>\n",
              "    <tr>\n",
              "      <th>4585</th>\n",
              "      <td>68</td>\n",
              "      <td>54.10</td>\n",
              "      <td>3794.5</td>\n",
              "      <td>Male</td>\n",
              "      <td>0</td>\n",
              "      <td>Yes</td>\n",
              "      <td>No</td>\n",
              "      <td>No</td>\n",
              "      <td>No phone service</td>\n",
              "      <td>DSL</td>\n",
              "      <td>Yes</td>\n",
              "      <td>No</td>\n",
              "      <td>Yes</td>\n",
              "      <td>No</td>\n",
              "      <td>Yes</td>\n",
              "      <td>Yes</td>\n",
              "      <td>Two year</td>\n",
              "      <td>Yes</td>\n",
              "      <td>Bank transfer (automatic)</td>\n",
              "      <td>0</td>\n",
              "    </tr>\n",
              "    <tr>\n",
              "      <th>4252</th>\n",
              "      <td>22</td>\n",
              "      <td>85.10</td>\n",
              "      <td>1873.7</td>\n",
              "      <td>Male</td>\n",
              "      <td>0</td>\n",
              "      <td>Yes</td>\n",
              "      <td>No</td>\n",
              "      <td>Yes</td>\n",
              "      <td>Yes</td>\n",
              "      <td>Fiber optic</td>\n",
              "      <td>No</td>\n",
              "      <td>No</td>\n",
              "      <td>No</td>\n",
              "      <td>No</td>\n",
              "      <td>No</td>\n",
              "      <td>Yes</td>\n",
              "      <td>Month-to-month</td>\n",
              "      <td>Yes</td>\n",
              "      <td>Electronic check</td>\n",
              "      <td>1</td>\n",
              "    </tr>\n",
              "    <tr>\n",
              "      <th>3270</th>\n",
              "      <td>22</td>\n",
              "      <td>75.00</td>\n",
              "      <td>1573.95</td>\n",
              "      <td>Male</td>\n",
              "      <td>0</td>\n",
              "      <td>Yes</td>\n",
              "      <td>Yes</td>\n",
              "      <td>Yes</td>\n",
              "      <td>No</td>\n",
              "      <td>Fiber optic</td>\n",
              "      <td>Yes</td>\n",
              "      <td>No</td>\n",
              "      <td>No</td>\n",
              "      <td>No</td>\n",
              "      <td>No</td>\n",
              "      <td>No</td>\n",
              "      <td>Month-to-month</td>\n",
              "      <td>No</td>\n",
              "      <td>Bank transfer (automatic)</td>\n",
              "      <td>0</td>\n",
              "    </tr>\n",
              "    <tr>\n",
              "      <th>1498</th>\n",
              "      <td>68</td>\n",
              "      <td>105.25</td>\n",
              "      <td>7173.15</td>\n",
              "      <td>Male</td>\n",
              "      <td>0</td>\n",
              "      <td>Yes</td>\n",
              "      <td>Yes</td>\n",
              "      <td>Yes</td>\n",
              "      <td>No</td>\n",
              "      <td>Fiber optic</td>\n",
              "      <td>Yes</td>\n",
              "      <td>Yes</td>\n",
              "      <td>Yes</td>\n",
              "      <td>No</td>\n",
              "      <td>Yes</td>\n",
              "      <td>Yes</td>\n",
              "      <td>Two year</td>\n",
              "      <td>Yes</td>\n",
              "      <td>Bank transfer (automatic)</td>\n",
              "      <td>0</td>\n",
              "    </tr>\n",
              "    <tr>\n",
              "      <th>3306</th>\n",
              "      <td>16</td>\n",
              "      <td>20.50</td>\n",
              "      <td>290.55</td>\n",
              "      <td>Male</td>\n",
              "      <td>0</td>\n",
              "      <td>Yes</td>\n",
              "      <td>Yes</td>\n",
              "      <td>Yes</td>\n",
              "      <td>No</td>\n",
              "      <td>No</td>\n",
              "      <td>No internet service</td>\n",
              "      <td>No internet service</td>\n",
              "      <td>No internet service</td>\n",
              "      <td>No internet service</td>\n",
              "      <td>No internet service</td>\n",
              "      <td>No internet service</td>\n",
              "      <td>Two year</td>\n",
              "      <td>No</td>\n",
              "      <td>Mailed check</td>\n",
              "      <td>0</td>\n",
              "    </tr>\n",
              "    <tr>\n",
              "      <th>2098</th>\n",
              "      <td>17</td>\n",
              "      <td>76.45</td>\n",
              "      <td>1233.4</td>\n",
              "      <td>Male</td>\n",
              "      <td>1</td>\n",
              "      <td>Yes</td>\n",
              "      <td>No</td>\n",
              "      <td>Yes</td>\n",
              "      <td>No</td>\n",
              "      <td>Fiber optic</td>\n",
              "      <td>No</td>\n",
              "      <td>Yes</td>\n",
              "      <td>No</td>\n",
              "      <td>No</td>\n",
              "      <td>No</td>\n",
              "      <td>No</td>\n",
              "      <td>Month-to-month</td>\n",
              "      <td>Yes</td>\n",
              "      <td>Electronic check</td>\n",
              "      <td>1</td>\n",
              "    </tr>\n",
              "    <tr>\n",
              "      <th>1862</th>\n",
              "      <td>24</td>\n",
              "      <td>56.25</td>\n",
              "      <td>1454.25</td>\n",
              "      <td>Male</td>\n",
              "      <td>0</td>\n",
              "      <td>Yes</td>\n",
              "      <td>Yes</td>\n",
              "      <td>Yes</td>\n",
              "      <td>No</td>\n",
              "      <td>DSL</td>\n",
              "      <td>Yes</td>\n",
              "      <td>No</td>\n",
              "      <td>Yes</td>\n",
              "      <td>No</td>\n",
              "      <td>No</td>\n",
              "      <td>No</td>\n",
              "      <td>One year</td>\n",
              "      <td>Yes</td>\n",
              "      <td>Credit card (automatic)</td>\n",
              "      <td>0</td>\n",
              "    </tr>\n",
              "    <tr>\n",
              "      <th>5246</th>\n",
              "      <td>31</td>\n",
              "      <td>19.55</td>\n",
              "      <td>658.95</td>\n",
              "      <td>Female</td>\n",
              "      <td>0</td>\n",
              "      <td>Yes</td>\n",
              "      <td>Yes</td>\n",
              "      <td>Yes</td>\n",
              "      <td>No</td>\n",
              "      <td>No</td>\n",
              "      <td>No internet service</td>\n",
              "      <td>No internet service</td>\n",
              "      <td>No internet service</td>\n",
              "      <td>No internet service</td>\n",
              "      <td>No internet service</td>\n",
              "      <td>No internet service</td>\n",
              "      <td>Month-to-month</td>\n",
              "      <td>Yes</td>\n",
              "      <td>Mailed check</td>\n",
              "      <td>1</td>\n",
              "    </tr>\n",
              "    <tr>\n",
              "      <th>4167</th>\n",
              "      <td>11</td>\n",
              "      <td>72.90</td>\n",
              "      <td>818.45</td>\n",
              "      <td>Male</td>\n",
              "      <td>0</td>\n",
              "      <td>No</td>\n",
              "      <td>No</td>\n",
              "      <td>Yes</td>\n",
              "      <td>No</td>\n",
              "      <td>Fiber optic</td>\n",
              "      <td>No</td>\n",
              "      <td>No</td>\n",
              "      <td>Yes</td>\n",
              "      <td>No</td>\n",
              "      <td>No</td>\n",
              "      <td>No</td>\n",
              "      <td>Month-to-month</td>\n",
              "      <td>No</td>\n",
              "      <td>Electronic check</td>\n",
              "      <td>0</td>\n",
              "    </tr>\n",
              "    <tr>\n",
              "      <th>2599</th>\n",
              "      <td>22</td>\n",
              "      <td>89.05</td>\n",
              "      <td>1886.25</td>\n",
              "      <td>Female</td>\n",
              "      <td>0</td>\n",
              "      <td>No</td>\n",
              "      <td>No</td>\n",
              "      <td>Yes</td>\n",
              "      <td>No</td>\n",
              "      <td>Fiber optic</td>\n",
              "      <td>Yes</td>\n",
              "      <td>No</td>\n",
              "      <td>No</td>\n",
              "      <td>Yes</td>\n",
              "      <td>No</td>\n",
              "      <td>Yes</td>\n",
              "      <td>Month-to-month</td>\n",
              "      <td>Yes</td>\n",
              "      <td>Electronic check</td>\n",
              "      <td>0</td>\n",
              "    </tr>\n",
              "  </tbody>\n",
              "</table>\n",
              "</div>"
            ],
            "text/plain": [
              "      ClientPeriod  MonthlySpending  ...              PaymentMethod Churn\n",
              "4585            68            54.10  ...  Bank transfer (automatic)     0\n",
              "4252            22            85.10  ...           Electronic check     1\n",
              "3270            22            75.00  ...  Bank transfer (automatic)     0\n",
              "1498            68           105.25  ...  Bank transfer (automatic)     0\n",
              "3306            16            20.50  ...               Mailed check     0\n",
              "2098            17            76.45  ...           Electronic check     1\n",
              "1862            24            56.25  ...    Credit card (automatic)     0\n",
              "5246            31            19.55  ...               Mailed check     1\n",
              "4167            11            72.90  ...           Electronic check     0\n",
              "2599            22            89.05  ...           Electronic check     0\n",
              "\n",
              "[10 rows x 20 columns]"
            ]
          },
          "metadata": {
            "tags": []
          },
          "execution_count": 39
        }
      ]
    },
    {
      "cell_type": "markdown",
      "metadata": {
        "id": "JE6-ejKIQmSj"
      },
      "source": [
        "Рассмотрим информацию о датасете в целом"
      ]
    },
    {
      "cell_type": "code",
      "metadata": {
        "colab": {
          "base_uri": "https://localhost:8080/"
        },
        "id": "JkrnBr42Qeoo",
        "outputId": "4d8d3a42-2ea2-43ae-9e38-24f6b34c60a0"
      },
      "source": [
        "data.info()"
      ],
      "execution_count": 40,
      "outputs": [
        {
          "output_type": "stream",
          "text": [
            "<class 'pandas.core.frame.DataFrame'>\n",
            "RangeIndex: 5282 entries, 0 to 5281\n",
            "Data columns (total 20 columns):\n",
            " #   Column                    Non-Null Count  Dtype  \n",
            "---  ------                    --------------  -----  \n",
            " 0   ClientPeriod              5282 non-null   int64  \n",
            " 1   MonthlySpending           5282 non-null   float64\n",
            " 2   TotalSpent                5282 non-null   object \n",
            " 3   Sex                       5282 non-null   object \n",
            " 4   IsSeniorCitizen           5282 non-null   int64  \n",
            " 5   HasPartner                5282 non-null   object \n",
            " 6   HasChild                  5282 non-null   object \n",
            " 7   HasPhoneService           5282 non-null   object \n",
            " 8   HasMultiplePhoneNumbers   5282 non-null   object \n",
            " 9   HasInternetService        5282 non-null   object \n",
            " 10  HasOnlineSecurityService  5282 non-null   object \n",
            " 11  HasOnlineBackup           5282 non-null   object \n",
            " 12  HasDeviceProtection       5282 non-null   object \n",
            " 13  HasTechSupportAccess      5282 non-null   object \n",
            " 14  HasOnlineTV               5282 non-null   object \n",
            " 15  HasMovieSubscription      5282 non-null   object \n",
            " 16  HasContractPhone          5282 non-null   object \n",
            " 17  IsBillingPaperless        5282 non-null   object \n",
            " 18  PaymentMethod             5282 non-null   object \n",
            " 19  Churn                     5282 non-null   int64  \n",
            "dtypes: float64(1), int64(3), object(16)\n",
            "memory usage: 825.4+ KB\n"
          ],
          "name": "stdout"
        }
      ]
    },
    {
      "cell_type": "markdown",
      "metadata": {
        "id": "YgS7muqVKAAp"
      },
      "source": [
        "Заметим, что численный признак \"TotalSpent\" имеет не числовой тип данных, преобразуем его с помощью метода pandas.to_numeric"
      ]
    },
    {
      "cell_type": "code",
      "metadata": {
        "id": "WjLTkVT8KkFe"
      },
      "source": [
        "data['TotalSpent'] = pd.to_numeric(data['TotalSpent'], errors='coerce')"
      ],
      "execution_count": 41,
      "outputs": []
    },
    {
      "cell_type": "markdown",
      "metadata": {
        "id": "viZzXjcMRLUu"
      },
      "source": [
        "Рассмотрим информацию о датасете ещё раз"
      ]
    },
    {
      "cell_type": "code",
      "metadata": {
        "colab": {
          "base_uri": "https://localhost:8080/"
        },
        "id": "r5WzNTGNLBd1",
        "outputId": "1f69a081-3feb-4ae1-b131-9821496cd0ed"
      },
      "source": [
        "data.info()"
      ],
      "execution_count": 42,
      "outputs": [
        {
          "output_type": "stream",
          "text": [
            "<class 'pandas.core.frame.DataFrame'>\n",
            "RangeIndex: 5282 entries, 0 to 5281\n",
            "Data columns (total 20 columns):\n",
            " #   Column                    Non-Null Count  Dtype  \n",
            "---  ------                    --------------  -----  \n",
            " 0   ClientPeriod              5282 non-null   int64  \n",
            " 1   MonthlySpending           5282 non-null   float64\n",
            " 2   TotalSpent                5273 non-null   float64\n",
            " 3   Sex                       5282 non-null   object \n",
            " 4   IsSeniorCitizen           5282 non-null   int64  \n",
            " 5   HasPartner                5282 non-null   object \n",
            " 6   HasChild                  5282 non-null   object \n",
            " 7   HasPhoneService           5282 non-null   object \n",
            " 8   HasMultiplePhoneNumbers   5282 non-null   object \n",
            " 9   HasInternetService        5282 non-null   object \n",
            " 10  HasOnlineSecurityService  5282 non-null   object \n",
            " 11  HasOnlineBackup           5282 non-null   object \n",
            " 12  HasDeviceProtection       5282 non-null   object \n",
            " 13  HasTechSupportAccess      5282 non-null   object \n",
            " 14  HasOnlineTV               5282 non-null   object \n",
            " 15  HasMovieSubscription      5282 non-null   object \n",
            " 16  HasContractPhone          5282 non-null   object \n",
            " 17  IsBillingPaperless        5282 non-null   object \n",
            " 18  PaymentMethod             5282 non-null   object \n",
            " 19  Churn                     5282 non-null   int64  \n",
            "dtypes: float64(2), int64(3), object(15)\n",
            "memory usage: 825.4+ KB\n"
          ],
          "name": "stdout"
        }
      ]
    },
    {
      "cell_type": "markdown",
      "metadata": {
        "id": "mRl5MQ7ugge9"
      },
      "source": [
        "Построим табличку с количеством nan в каждом столбце"
      ]
    },
    {
      "cell_type": "code",
      "metadata": {
        "colab": {
          "base_uri": "https://localhost:8080/"
        },
        "id": "KQ6SLSQud0EE",
        "outputId": "5f6ef5d3-54d4-49f8-a574-c99f0fff56e4"
      },
      "source": [
        "data.isna().sum()"
      ],
      "execution_count": 43,
      "outputs": [
        {
          "output_type": "execute_result",
          "data": {
            "text/plain": [
              "ClientPeriod                0\n",
              "MonthlySpending             0\n",
              "TotalSpent                  9\n",
              "Sex                         0\n",
              "IsSeniorCitizen             0\n",
              "HasPartner                  0\n",
              "HasChild                    0\n",
              "HasPhoneService             0\n",
              "HasMultiplePhoneNumbers     0\n",
              "HasInternetService          0\n",
              "HasOnlineSecurityService    0\n",
              "HasOnlineBackup             0\n",
              "HasDeviceProtection         0\n",
              "HasTechSupportAccess        0\n",
              "HasOnlineTV                 0\n",
              "HasMovieSubscription        0\n",
              "HasContractPhone            0\n",
              "IsBillingPaperless          0\n",
              "PaymentMethod               0\n",
              "Churn                       0\n",
              "dtype: int64"
            ]
          },
          "metadata": {
            "tags": []
          },
          "execution_count": 43
        }
      ]
    },
    {
      "cell_type": "markdown",
      "metadata": {
        "id": "UMfxweiUgss9"
      },
      "source": [
        "Как видим столбец TotalSpent содержит 9 значений nan. Рассмотрим строки, содержащие значения nan в деталях"
      ]
    },
    {
      "cell_type": "code",
      "metadata": {
        "colab": {
          "base_uri": "https://localhost:8080/",
          "height": 467
        },
        "id": "m-7gDy-gLPzJ",
        "outputId": "33d87a64-e12c-4335-9b24-539d7d273af3"
      },
      "source": [
        "data[data['TotalSpent'].isna() == True]"
      ],
      "execution_count": 24,
      "outputs": [
        {
          "output_type": "execute_result",
          "data": {
            "text/html": [
              "<div>\n",
              "<style scoped>\n",
              "    .dataframe tbody tr th:only-of-type {\n",
              "        vertical-align: middle;\n",
              "    }\n",
              "\n",
              "    .dataframe tbody tr th {\n",
              "        vertical-align: top;\n",
              "    }\n",
              "\n",
              "    .dataframe thead th {\n",
              "        text-align: right;\n",
              "    }\n",
              "</style>\n",
              "<table border=\"1\" class=\"dataframe\">\n",
              "  <thead>\n",
              "    <tr style=\"text-align: right;\">\n",
              "      <th></th>\n",
              "      <th>ClientPeriod</th>\n",
              "      <th>MonthlySpending</th>\n",
              "      <th>TotalSpent</th>\n",
              "      <th>Sex</th>\n",
              "      <th>IsSeniorCitizen</th>\n",
              "      <th>HasPartner</th>\n",
              "      <th>HasChild</th>\n",
              "      <th>HasPhoneService</th>\n",
              "      <th>HasMultiplePhoneNumbers</th>\n",
              "      <th>HasInternetService</th>\n",
              "      <th>HasOnlineSecurityService</th>\n",
              "      <th>HasOnlineBackup</th>\n",
              "      <th>HasDeviceProtection</th>\n",
              "      <th>HasTechSupportAccess</th>\n",
              "      <th>HasOnlineTV</th>\n",
              "      <th>HasMovieSubscription</th>\n",
              "      <th>HasContractPhone</th>\n",
              "      <th>IsBillingPaperless</th>\n",
              "      <th>PaymentMethod</th>\n",
              "      <th>Churn</th>\n",
              "    </tr>\n",
              "  </thead>\n",
              "  <tbody>\n",
              "    <tr>\n",
              "      <th>1048</th>\n",
              "      <td>0</td>\n",
              "      <td>25.75</td>\n",
              "      <td>NaN</td>\n",
              "      <td>Male</td>\n",
              "      <td>0</td>\n",
              "      <td>Yes</td>\n",
              "      <td>Yes</td>\n",
              "      <td>Yes</td>\n",
              "      <td>Yes</td>\n",
              "      <td>No</td>\n",
              "      <td>No internet service</td>\n",
              "      <td>No internet service</td>\n",
              "      <td>No internet service</td>\n",
              "      <td>No internet service</td>\n",
              "      <td>No internet service</td>\n",
              "      <td>No internet service</td>\n",
              "      <td>Two year</td>\n",
              "      <td>No</td>\n",
              "      <td>Mailed check</td>\n",
              "      <td>0</td>\n",
              "    </tr>\n",
              "    <tr>\n",
              "      <th>1707</th>\n",
              "      <td>0</td>\n",
              "      <td>73.35</td>\n",
              "      <td>NaN</td>\n",
              "      <td>Female</td>\n",
              "      <td>0</td>\n",
              "      <td>Yes</td>\n",
              "      <td>Yes</td>\n",
              "      <td>Yes</td>\n",
              "      <td>Yes</td>\n",
              "      <td>DSL</td>\n",
              "      <td>No</td>\n",
              "      <td>Yes</td>\n",
              "      <td>Yes</td>\n",
              "      <td>Yes</td>\n",
              "      <td>Yes</td>\n",
              "      <td>No</td>\n",
              "      <td>Two year</td>\n",
              "      <td>No</td>\n",
              "      <td>Mailed check</td>\n",
              "      <td>0</td>\n",
              "    </tr>\n",
              "    <tr>\n",
              "      <th>2543</th>\n",
              "      <td>0</td>\n",
              "      <td>19.70</td>\n",
              "      <td>NaN</td>\n",
              "      <td>Male</td>\n",
              "      <td>0</td>\n",
              "      <td>Yes</td>\n",
              "      <td>Yes</td>\n",
              "      <td>Yes</td>\n",
              "      <td>No</td>\n",
              "      <td>No</td>\n",
              "      <td>No internet service</td>\n",
              "      <td>No internet service</td>\n",
              "      <td>No internet service</td>\n",
              "      <td>No internet service</td>\n",
              "      <td>No internet service</td>\n",
              "      <td>No internet service</td>\n",
              "      <td>One year</td>\n",
              "      <td>Yes</td>\n",
              "      <td>Mailed check</td>\n",
              "      <td>0</td>\n",
              "    </tr>\n",
              "    <tr>\n",
              "      <th>3078</th>\n",
              "      <td>0</td>\n",
              "      <td>80.85</td>\n",
              "      <td>NaN</td>\n",
              "      <td>Female</td>\n",
              "      <td>0</td>\n",
              "      <td>Yes</td>\n",
              "      <td>Yes</td>\n",
              "      <td>Yes</td>\n",
              "      <td>No</td>\n",
              "      <td>DSL</td>\n",
              "      <td>Yes</td>\n",
              "      <td>Yes</td>\n",
              "      <td>Yes</td>\n",
              "      <td>No</td>\n",
              "      <td>Yes</td>\n",
              "      <td>Yes</td>\n",
              "      <td>Two year</td>\n",
              "      <td>No</td>\n",
              "      <td>Mailed check</td>\n",
              "      <td>0</td>\n",
              "    </tr>\n",
              "    <tr>\n",
              "      <th>3697</th>\n",
              "      <td>0</td>\n",
              "      <td>20.00</td>\n",
              "      <td>NaN</td>\n",
              "      <td>Female</td>\n",
              "      <td>0</td>\n",
              "      <td>Yes</td>\n",
              "      <td>Yes</td>\n",
              "      <td>Yes</td>\n",
              "      <td>No</td>\n",
              "      <td>No</td>\n",
              "      <td>No internet service</td>\n",
              "      <td>No internet service</td>\n",
              "      <td>No internet service</td>\n",
              "      <td>No internet service</td>\n",
              "      <td>No internet service</td>\n",
              "      <td>No internet service</td>\n",
              "      <td>Two year</td>\n",
              "      <td>No</td>\n",
              "      <td>Mailed check</td>\n",
              "      <td>0</td>\n",
              "    </tr>\n",
              "    <tr>\n",
              "      <th>4002</th>\n",
              "      <td>0</td>\n",
              "      <td>61.90</td>\n",
              "      <td>NaN</td>\n",
              "      <td>Male</td>\n",
              "      <td>0</td>\n",
              "      <td>No</td>\n",
              "      <td>Yes</td>\n",
              "      <td>Yes</td>\n",
              "      <td>Yes</td>\n",
              "      <td>DSL</td>\n",
              "      <td>Yes</td>\n",
              "      <td>Yes</td>\n",
              "      <td>No</td>\n",
              "      <td>Yes</td>\n",
              "      <td>No</td>\n",
              "      <td>No</td>\n",
              "      <td>Two year</td>\n",
              "      <td>Yes</td>\n",
              "      <td>Bank transfer (automatic)</td>\n",
              "      <td>0</td>\n",
              "    </tr>\n",
              "    <tr>\n",
              "      <th>4326</th>\n",
              "      <td>0</td>\n",
              "      <td>25.35</td>\n",
              "      <td>NaN</td>\n",
              "      <td>Male</td>\n",
              "      <td>0</td>\n",
              "      <td>Yes</td>\n",
              "      <td>Yes</td>\n",
              "      <td>Yes</td>\n",
              "      <td>Yes</td>\n",
              "      <td>No</td>\n",
              "      <td>No internet service</td>\n",
              "      <td>No internet service</td>\n",
              "      <td>No internet service</td>\n",
              "      <td>No internet service</td>\n",
              "      <td>No internet service</td>\n",
              "      <td>No internet service</td>\n",
              "      <td>Two year</td>\n",
              "      <td>No</td>\n",
              "      <td>Mailed check</td>\n",
              "      <td>0</td>\n",
              "    </tr>\n",
              "    <tr>\n",
              "      <th>4551</th>\n",
              "      <td>0</td>\n",
              "      <td>52.55</td>\n",
              "      <td>NaN</td>\n",
              "      <td>Female</td>\n",
              "      <td>0</td>\n",
              "      <td>Yes</td>\n",
              "      <td>Yes</td>\n",
              "      <td>No</td>\n",
              "      <td>No phone service</td>\n",
              "      <td>DSL</td>\n",
              "      <td>Yes</td>\n",
              "      <td>No</td>\n",
              "      <td>Yes</td>\n",
              "      <td>Yes</td>\n",
              "      <td>Yes</td>\n",
              "      <td>No</td>\n",
              "      <td>Two year</td>\n",
              "      <td>Yes</td>\n",
              "      <td>Bank transfer (automatic)</td>\n",
              "      <td>0</td>\n",
              "    </tr>\n",
              "    <tr>\n",
              "      <th>4598</th>\n",
              "      <td>0</td>\n",
              "      <td>56.05</td>\n",
              "      <td>NaN</td>\n",
              "      <td>Female</td>\n",
              "      <td>0</td>\n",
              "      <td>Yes</td>\n",
              "      <td>Yes</td>\n",
              "      <td>No</td>\n",
              "      <td>No phone service</td>\n",
              "      <td>DSL</td>\n",
              "      <td>Yes</td>\n",
              "      <td>Yes</td>\n",
              "      <td>Yes</td>\n",
              "      <td>Yes</td>\n",
              "      <td>Yes</td>\n",
              "      <td>No</td>\n",
              "      <td>Two year</td>\n",
              "      <td>No</td>\n",
              "      <td>Credit card (automatic)</td>\n",
              "      <td>0</td>\n",
              "    </tr>\n",
              "  </tbody>\n",
              "</table>\n",
              "</div>"
            ],
            "text/plain": [
              "      ClientPeriod  MonthlySpending  ...              PaymentMethod Churn\n",
              "1048             0            25.75  ...               Mailed check     0\n",
              "1707             0            73.35  ...               Mailed check     0\n",
              "2543             0            19.70  ...               Mailed check     0\n",
              "3078             0            80.85  ...               Mailed check     0\n",
              "3697             0            20.00  ...               Mailed check     0\n",
              "4002             0            61.90  ...  Bank transfer (automatic)     0\n",
              "4326             0            25.35  ...               Mailed check     0\n",
              "4551             0            52.55  ...  Bank transfer (automatic)     0\n",
              "4598             0            56.05  ...    Credit card (automatic)     0\n",
              "\n",
              "[9 rows x 20 columns]"
            ]
          },
          "metadata": {
            "tags": []
          },
          "execution_count": 24
        }
      ]
    },
    {
      "cell_type": "markdown",
      "metadata": {
        "id": "e7ijjYzMR0VR"
      },
      "source": [
        "Это подозрительные строки, у которых к тому же значение ClientPeriod = 0. Удалим их из датасета"
      ]
    },
    {
      "cell_type": "code",
      "metadata": {
        "id": "jfzy1OdbS7R6"
      },
      "source": [
        "data = data.dropna()"
      ],
      "execution_count": 44,
      "outputs": []
    },
    {
      "cell_type": "markdown",
      "metadata": {
        "id": "IoDRuX28TNq3"
      },
      "source": [
        "Ещё раз проверим датасет на наличие значений nan"
      ]
    },
    {
      "cell_type": "code",
      "metadata": {
        "colab": {
          "base_uri": "https://localhost:8080/"
        },
        "id": "M5EhqZoRTFQV",
        "outputId": "1454237c-4e1e-4cd5-d079-59cc568a9a64"
      },
      "source": [
        "data.info()"
      ],
      "execution_count": 45,
      "outputs": [
        {
          "output_type": "stream",
          "text": [
            "<class 'pandas.core.frame.DataFrame'>\n",
            "Int64Index: 5273 entries, 0 to 5281\n",
            "Data columns (total 20 columns):\n",
            " #   Column                    Non-Null Count  Dtype  \n",
            "---  ------                    --------------  -----  \n",
            " 0   ClientPeriod              5273 non-null   int64  \n",
            " 1   MonthlySpending           5273 non-null   float64\n",
            " 2   TotalSpent                5273 non-null   float64\n",
            " 3   Sex                       5273 non-null   object \n",
            " 4   IsSeniorCitizen           5273 non-null   int64  \n",
            " 5   HasPartner                5273 non-null   object \n",
            " 6   HasChild                  5273 non-null   object \n",
            " 7   HasPhoneService           5273 non-null   object \n",
            " 8   HasMultiplePhoneNumbers   5273 non-null   object \n",
            " 9   HasInternetService        5273 non-null   object \n",
            " 10  HasOnlineSecurityService  5273 non-null   object \n",
            " 11  HasOnlineBackup           5273 non-null   object \n",
            " 12  HasDeviceProtection       5273 non-null   object \n",
            " 13  HasTechSupportAccess      5273 non-null   object \n",
            " 14  HasOnlineTV               5273 non-null   object \n",
            " 15  HasMovieSubscription      5273 non-null   object \n",
            " 16  HasContractPhone          5273 non-null   object \n",
            " 17  IsBillingPaperless        5273 non-null   object \n",
            " 18  PaymentMethod             5273 non-null   object \n",
            " 19  Churn                     5273 non-null   int64  \n",
            "dtypes: float64(2), int64(3), object(15)\n",
            "memory usage: 865.1+ KB\n"
          ],
          "name": "stdout"
        }
      ]
    },
    {
      "cell_type": "code",
      "metadata": {
        "colab": {
          "base_uri": "https://localhost:8080/"
        },
        "id": "VJIVhsn8TWb5",
        "outputId": "cba40dfe-cb5b-4442-ce38-1b4fa3ac58c9"
      },
      "source": [
        "data.isna().sum()"
      ],
      "execution_count": 46,
      "outputs": [
        {
          "output_type": "execute_result",
          "data": {
            "text/plain": [
              "ClientPeriod                0\n",
              "MonthlySpending             0\n",
              "TotalSpent                  0\n",
              "Sex                         0\n",
              "IsSeniorCitizen             0\n",
              "HasPartner                  0\n",
              "HasChild                    0\n",
              "HasPhoneService             0\n",
              "HasMultiplePhoneNumbers     0\n",
              "HasInternetService          0\n",
              "HasOnlineSecurityService    0\n",
              "HasOnlineBackup             0\n",
              "HasDeviceProtection         0\n",
              "HasTechSupportAccess        0\n",
              "HasOnlineTV                 0\n",
              "HasMovieSubscription        0\n",
              "HasContractPhone            0\n",
              "IsBillingPaperless          0\n",
              "PaymentMethod               0\n",
              "Churn                       0\n",
              "dtype: int64"
            ]
          },
          "metadata": {
            "tags": []
          },
          "execution_count": 46
        }
      ]
    },
    {
      "cell_type": "markdown",
      "metadata": {
        "id": "KI5bGiZ7Ter9"
      },
      "source": [
        "Теперь значений nan в датасете нет"
      ]
    },
    {
      "cell_type": "code",
      "metadata": {
        "id": "DYeaYE5beEO8"
      },
      "source": [
        "data['IsSeniorCitizen'] = data['IsSeniorCitizen'].replace([0, 1], ['No', 'Yes'])"
      ],
      "execution_count": 54,
      "outputs": []
    },
    {
      "cell_type": "code",
      "metadata": {
        "colab": {
          "base_uri": "https://localhost:8080/"
        },
        "id": "vsrkZ0oyepMm",
        "outputId": "c8861249-1532-4c3a-c449-70809ac21086"
      },
      "source": [
        "data.info()"
      ],
      "execution_count": 55,
      "outputs": [
        {
          "output_type": "stream",
          "text": [
            "<class 'pandas.core.frame.DataFrame'>\n",
            "Int64Index: 5273 entries, 0 to 5281\n",
            "Data columns (total 20 columns):\n",
            " #   Column                    Non-Null Count  Dtype  \n",
            "---  ------                    --------------  -----  \n",
            " 0   ClientPeriod              5273 non-null   int64  \n",
            " 1   MonthlySpending           5273 non-null   float64\n",
            " 2   TotalSpent                5273 non-null   float64\n",
            " 3   Sex                       5273 non-null   object \n",
            " 4   IsSeniorCitizen           5273 non-null   object \n",
            " 5   HasPartner                5273 non-null   object \n",
            " 6   HasChild                  5273 non-null   object \n",
            " 7   HasPhoneService           5273 non-null   object \n",
            " 8   HasMultiplePhoneNumbers   5273 non-null   object \n",
            " 9   HasInternetService        5273 non-null   object \n",
            " 10  HasOnlineSecurityService  5273 non-null   object \n",
            " 11  HasOnlineBackup           5273 non-null   object \n",
            " 12  HasDeviceProtection       5273 non-null   object \n",
            " 13  HasTechSupportAccess      5273 non-null   object \n",
            " 14  HasOnlineTV               5273 non-null   object \n",
            " 15  HasMovieSubscription      5273 non-null   object \n",
            " 16  HasContractPhone          5273 non-null   object \n",
            " 17  IsBillingPaperless        5273 non-null   object \n",
            " 18  PaymentMethod             5273 non-null   object \n",
            " 19  Churn                     5273 non-null   int64  \n",
            "dtypes: float64(2), int64(2), object(16)\n",
            "memory usage: 865.1+ KB\n"
          ],
          "name": "stdout"
        }
      ]
    },
    {
      "cell_type": "markdown",
      "metadata": {
        "id": "dK370bPCEEZD"
      },
      "source": [
        "## Анализ данных (3 балла)\n",
        "\n",
        "1) Для численных призанков постройте гистограмму (*plt.hist(...)*) или boxplot (*plt.boxplot(...)*). Для категориальных посчитайте количество каждого значения для каждого признака. Для каждой колонки надо сделать *data.value_counts()* и построить bar диаграммы *plt.bar(...)* или круговые диаграммы *plt.pie(...)* (хорошо, елси вы сможете это сделать на одном гарфике с помощью *plt.subplots(...)*). \n",
        "\n",
        "2) Посмотрите на распределение целевой переменной и скажите, являются ли классы несбалансированными.\n",
        "\n",
        "3) (Если будет желание) Поиграйте с разными библиотеками для визуализации - *sns*, *pandas_visual_analysis*, etc.\n",
        "\n",
        "Второй пункт очень важен, потому что существуют задачи классификации с несбалансированными классами. Например, это может значить, что в датасете намного больше примеров 0 класса. В таких случаях нужно 1) не использовать accuracy как метрику 2) использовать методы борьбы с imbalanced dataset (обычно если датасет сильно несбалансирован, т.е. класса 1 в 20 раз меньше класса 0)."
      ]
    },
    {
      "cell_type": "markdown",
      "metadata": {
        "id": "91_CSEbWVC_i"
      },
      "source": [
        "Строим гистограммы для численных признаков"
      ]
    },
    {
      "cell_type": "code",
      "metadata": {
        "id": "NZkbgFJZEEZE",
        "colab": {
          "base_uri": "https://localhost:8080/",
          "height": 499
        },
        "outputId": "4a5ebbf0-8c85-412a-9aa9-2886548e2920"
      },
      "source": [
        "num_hist = data[num_cols].hist(bins=100, figsize=(16, 8))"
      ],
      "execution_count": 48,
      "outputs": [
        {
          "output_type": "display_data",
          "data": {
            "image/png": "[encoded data removed]",
            "text/plain": [
              "<Figure size 1152x576 with 4 Axes>"
            ]
          },
          "metadata": {
            "tags": [],
            "needs_background": "light"
          }
        }
      ]
    },
    {
      "cell_type": "markdown",
      "metadata": {
        "id": "dmFwAttEdRDe"
      },
      "source": [
        "Построим диаграммы для категориальных признаков, предварительно посчитав количество каждого значения для каждого признака"
      ]
    },
    {
      "cell_type": "code",
      "metadata": {
        "colab": {
          "base_uri": "https://localhost:8080/",
          "height": 967
        },
        "id": "XR2FVP-kdnu0",
        "outputId": "0b3f31ea-5884-4ec4-cca4-a751574157f5"
      },
      "source": [
        "fig, axes = plt.subplots(4, 4, figsize=(16, 16), sharey=True)\r\n",
        "axes = axes.flatten() #метод, превращающий axes в одномерный массив, по которому легко итерировать\r\n",
        "i = 0\r\n",
        "for i in range(len(cat_cols)):\r\n",
        "    x = data[cat_cols[i]].value_counts().index.tolist()\r\n",
        "    y = data[cat_cols[i]].value_counts()\r\n",
        "    axes[i].set_title(cat_cols[i])\r\n",
        "    axes[i].bar(x, y)\r\n",
        "plt.xticks(x, rotation='vertical') #делаем подписи вертикальными, чтобы они не наезжали друг на друга в последнем графике\r\n",
        "plt.tight_layout() #метод, который не даёт графикам наежать друг на друга\r\n",
        "plt.show()"
      ],
      "execution_count": 53,
      "outputs": [
        {
          "output_type": "display_data",
          "data": {
            "image/png": "[encoded data removed]",
            "text/plain": [
              "<Figure size 1152x1152 with 16 Axes>"
            ]
          },
          "metadata": {
            "tags": [],
            "needs_background": "light"
          }
        }
      ]
    },
    {
      "cell_type": "markdown",
      "metadata": {
        "id": "zg60u3QDEEZH"
      },
      "source": [
        "(Дополнительно) Если вы нашли какие-то ошибки в данных или выбросы, то можете их убрать. Тут можно поэксперементировать с обработкой данных как угодно, но не за баллы."
      ]
    },
    {
      "cell_type": "code",
      "metadata": {
        "id": "fwfksF1gEEZI"
      },
      "source": [
        "# YOUR CODE"
      ],
      "execution_count": null,
      "outputs": []
    },
    {
      "cell_type": "markdown",
      "metadata": {
        "id": "DviiJd8REEZK"
      },
      "source": [
        "## Применение линейных моделей (3 балла)\n",
        "\n",
        "1) Обработайте данные для того, чтобы к ним можно было применить LogisticRegression. Т.е. отнормируйте числовые признаки, а категориальные закодируйте с помощью one-hot-encoding'а. \n",
        "\n",
        "2) С помощью кроссвалидации или разделения на train/valid выборку протестируйте разные значения гиперпараметра C и выберите лучший (можно тестировать С=100, 10, 1, 0.1, 0.01, 0.001) по метрике ROC-AUC. \n",
        "\n",
        "Если вы разделяете на train/valid, то используйте LogisticRegressionCV. Он сам при вызове .fit() подберет параметр С. (не забудьте передать scroing='roc_auc', чтобы при кроссвалидации сравнивались значения этой метрики, и refit=True, чтобы при потом модель обучилась на всем датасете с лучшим параметром C). \n",
        "\n",
        "\n",
        "(более сложный вариант) Если вы будете использовать кроссвалидацию, то преобразования данных и LogisticRegression нужно соединить в один Pipeline с помощью make_pipeline, как это делалось во втором семинаре. Потом pipeline надо передать в GridSearchCV. Для one-hot-encoding'a можно испльзовать комбинацию LabelEncoder + OneHotEncoder (сначала превращаем строчки в числа, а потом числа првращаем в one-hot вектора.)"
      ]
    },
    {
      "cell_type": "code",
      "metadata": {
        "id": "xHCLDmwqEEZL"
      },
      "source": [
        "from sklearn.linear_model import LogisticRegression, LogisticRegressionCV\n",
        "from sklearn.model_selection import train_test_split, GridSearchCV\n",
        "from sklearn.preprocessing import StandardScaler, RobustScaler, LabelEncoder, OneHotEncoder\n",
        "from sklearn.pipeline import make_pipeline"
      ],
      "execution_count": null,
      "outputs": []
    },
    {
      "cell_type": "code",
      "metadata": {
        "id": "P2Yv3uYtEEZO"
      },
      "source": [
        "# YOUR CODE"
      ],
      "execution_count": null,
      "outputs": []
    },
    {
      "cell_type": "markdown",
      "metadata": {
        "id": "uVahy6JKEEZQ"
      },
      "source": [
        "Выпишите какое лучшее качество и с какими параметрами вам удалось получить"
      ]
    },
    {
      "cell_type": "markdown",
      "metadata": {
        "id": "36729TOQEEZR"
      },
      "source": [
        ""
      ]
    },
    {
      "cell_type": "markdown",
      "metadata": {
        "id": "BlTeVy7fEEZR"
      },
      "source": [
        "## Применение градиентного бустинга (2 балла)\n",
        "\n",
        "Если вы хотите получить баллы за точный ответ, то стоит попробовать градиентный бустинг. Часто градиентный бустинг с дефолтными параметрами даст вам 80% результата за 0% усилий.\n",
        "\n",
        "Мы будем использовать catboost, поэтому нам не надо кодировать категориальные признаки. catboost сделает это сам (в .fit() надо передать cat_features=cat_cols). А численные признаки нормировать для моделей, основанных на деревьях не нужно.\n",
        "\n",
        "1) Разделите выборку на train/valid. Протестируйте catboost cо стандартными параметрами.\n",
        "\n",
        "2) Протестируйте разные занчения параметроа количества деревьев и learning_rate'а и выберите лучшую по метрике ROC-AUC комбинацию. \n",
        "\n",
        "(Дополнительно) Есть некоторые сложности с тем, чтобы использовать CatBoostClassifier вместе с GridSearchCV, поэтому мы не просим использовать кроссвалидацию. Но можете попробовать)"
      ]
    },
    {
      "cell_type": "code",
      "metadata": {
        "id": "Fioxxlp-EEZS"
      },
      "source": [
        "# YOUR CODE"
      ],
      "execution_count": null,
      "outputs": []
    },
    {
      "cell_type": "markdown",
      "metadata": {
        "id": "rf4Kjt96EEZU"
      },
      "source": [
        "Выпишите какое лучшее качество и с какими параметрами вам удалось получить"
      ]
    },
    {
      "cell_type": "markdown",
      "metadata": {
        "id": "d2d9GolXEEZV"
      },
      "source": [
        ""
      ]
    },
    {
      "cell_type": "markdown",
      "metadata": {
        "id": "dDMXbvNZEEZV"
      },
      "source": [
        "# Предсказания"
      ]
    },
    {
      "cell_type": "code",
      "metadata": {
        "id": "G_P4wFNaEEZW",
        "outputId": "1fba5dfc-88e4-49e3-ed8a-afe21ae3325a"
      },
      "source": [
        "best_model = # какая-то предыдущая модель"
      ],
      "execution_count": null,
      "outputs": [
        {
          "output_type": "error",
          "ename": "SyntaxError",
          "evalue": "invalid syntax (<ipython-input-12-7d881febecc7>, line 1)",
          "traceback": [
            "\u001b[0;36m  File \u001b[0;32m\"<ipython-input-12-7d881febecc7>\"\u001b[0;36m, line \u001b[0;32m1\u001b[0m\n\u001b[0;31m    best_model = # какая-то предыдущая модель\u001b[0m\n\u001b[0m                                             ^\u001b[0m\n\u001b[0;31mSyntaxError\u001b[0m\u001b[0;31m:\u001b[0m invalid syntax\n"
          ]
        }
      ]
    },
    {
      "cell_type": "code",
      "metadata": {
        "id": "FfSufx0CEEZZ"
      },
      "source": [
        "X_test = pd.read_csv('./test.csv')\n",
        "submission = pd.read_csv('./submission.csv')\n",
        "\n",
        "submission['Churn'] = # best_model.predict_proba(X_test) / best_model.predict(X_test)\n",
        "submission.to_csv('./my_submission.csv')"
      ],
      "execution_count": null,
      "outputs": []
    },
    {
      "cell_type": "markdown",
      "metadata": {
        "id": "mkxjbGkVEEZc"
      },
      "source": [
        "# Kaggle (5 баллов)\n",
        "\n",
        "Как выставить баллы:\n",
        "\n",
        "1) 1 >= roc auc > 0.84 это 5 баллов\n",
        "\n",
        "2) 0.84 >= roc auc > 0.7 это 3 балла\n",
        "\n",
        "3) 0.7 >= roc auc > 0.6 это 1 балл\n",
        "\n",
        "4) 0.6 >= roc auc это 0 баллов\n",
        "\n",
        "\n",
        "Для выполнения задания необходимо выполнить следующие шаги.\n",
        "* Зарегистрироваться на платформе [kaggle.com](kaggle.com). Процесс выставления оценок будет проходить при подведении итогового рейтинга. Пожалуйста, укажите во вкладке Team -> Team name свои имя и фамилию в формате Имя_Фамилия (важно, чтобы имя и фамилия совпадали с данными на Stepik).\n",
        "* Обучить модель, получить файл с ответами в формате .csv и сдать его в конкурс. Пробуйте и экспериментируйте. Обратите внимание, что вы можете выполнять до 20 попыток сдачи на kaggle в день.\n",
        "* После окончания соревнования отправить в итоговый ноутбук с решением на степик. \n",
        "* После дедлайна проверьте посылки других участников по критериям. Для этого надо зайти на степик, скачать их ноутбук и проверить скор в соревновании."
      ]
    }
  ]
}